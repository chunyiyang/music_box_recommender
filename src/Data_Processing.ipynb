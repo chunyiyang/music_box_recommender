{
 "cells": [
  {
   "cell_type": "code",
   "execution_count": null,
   "metadata": {
    "collapsed": true
   },
   "outputs": [],
   "source": [
    "# to extract user_id, song_id, play_length, song_length, paid 5 columns from original file\n",
    "input_file_path = \"../data/all_play.log.fn\"\n",
    "output_file_path =  \"../data/all_play_simple.log.fn\"\n",
    "input_file_handler = open(input_file_path, 'r',  encoding=\"ISO-8859-1\")\n",
    "output_file_handler = open(output_file_path, 'w')"
   ]
  },
  {
   "cell_type": "code",
   "execution_count": null,
   "metadata": {
    "collapsed": true
   },
   "outputs": [],
   "source": [
    "for line in input_file_handler:\n",
    "    data = line.strip().split('\\t')\n",
    "    if (len(data) == 10) and (data[6] != '0') and (data[2] != '0'):\n",
    "        output_file_handler.write(data[0] + '\\t' + data[2] + '\\t' + data[6] + '\\t' + data[7] + '\\n')"
   ]
  },
  {
   "cell_type": "code",
   "execution_count": null,
   "metadata": {
    "collapsed": true
   },
   "outputs": [],
   "source": [
    "input_file_handler.close()\n",
    "output_file_handler.close()"
   ]
  },
  {
   "cell_type": "code",
   "execution_count": null,
   "metadata": {
    "collapsed": true
   },
   "outputs": [],
   "source": []
  },
  {
   "cell_type": "code",
   "execution_count": 1,
   "metadata": {
    "collapsed": true
   },
   "outputs": [],
   "source": [
    "# to create user_id, song_id, play_times 3 columns \n",
    "input_file_path = \"../data/all_play.log.fn\"\n",
    "output_file_path =  \"../data/all_play_simple_withrate.log.fn\"\n",
    "input_file_handler = open(input_file_path, 'r',  encoding=\"ISO-8859-1\")\n",
    "output_file_handler = open(output_file_path, 'w')"
   ]
  },
  {
   "cell_type": "code",
   "execution_count": 2,
   "metadata": {
    "collapsed": true
   },
   "outputs": [],
   "source": [
    "for line in input_file_handler:\n",
    "    data = line.strip().split('\\t')\n",
    "    if (len(data) == 10) and (data[6] != '0') and (data[2] != '0'):\n",
    "        try:\n",
    "            user_id = int(data[0])\n",
    "            song_id = int(data[2])\n",
    "            play_length = float(data[6])\n",
    "            song_length = float(data[7])\n",
    "            if play_length > 0 and song_length > 0:\n",
    "                play_times = round(play_length/song_length)\n",
    "            else:\n",
    "                play_times = 0\n",
    "#            output_file_handler.write(data[0] + '\\t' + data[2] + '\\t' + data[6] + '\\t' + data[7] + '\\n')\n",
    "            output_file_handler.write(data[0] + '\\t' + data[2] + '\\t' + str(play_times) + '\\n')\n",
    "        except:\n",
    "            play_times = 0\n",
    "        \n",
    "#        output_file_handler.write(data[0] + '\\t' + data[2] + '\\t' + str(play_times) + '\\n')"
   ]
  },
  {
   "cell_type": "code",
   "execution_count": 13,
   "metadata": {
    "collapsed": true
   },
   "outputs": [],
   "source": [
    "input_file_handler.close()\n",
    "output_file_handler.close()"
   ]
  },
  {
   "cell_type": "code",
   "execution_count": null,
   "metadata": {
    "collapsed": true
   },
   "outputs": [],
   "source": []
  },
  {
   "cell_type": "code",
   "execution_count": 14,
   "metadata": {
    "collapsed": true
   },
   "outputs": [],
   "source": [
    "# to create a small sample (1000000 rows)\n",
    "input_file_path = \"../data/all_play_simple.log.fn\"\n",
    "output_file_path =  \"../data/all_play_simple1000000.log.fn\"\n",
    "input_file_handler = open(input_file_path, 'r' ,  encoding=\"ISO-8859-1\")\n",
    "output_file_handler = open(output_file_path, 'w')"
   ]
  },
  {
   "cell_type": "code",
   "execution_count": 15,
   "metadata": {},
   "outputs": [],
   "source": [
    "count = 0\n",
    "for line in input_file_handler:\n",
    "    if count < 10000000:\n",
    "        output_file_handler.write(line)\n",
    "        count += 1\n",
    "    else:\n",
    "        break"
   ]
  },
  {
   "cell_type": "code",
   "execution_count": 16,
   "metadata": {
    "collapsed": true
   },
   "outputs": [],
   "source": [
    "input_file_handler.close()\n",
    "output_file_handler.close()"
   ]
  },
  {
   "cell_type": "code",
   "execution_count": null,
   "metadata": {
    "collapsed": true
   },
   "outputs": [],
   "source": []
  }
 ],
 "metadata": {
  "kernelspec": {
   "display_name": "Python 3",
   "language": "python",
   "name": "python3"
  },
  "language_info": {
   "codemirror_mode": {
    "name": "ipython",
    "version": 3
   },
   "file_extension": ".py",
   "mimetype": "text/x-python",
   "name": "python",
   "nbconvert_exporter": "python",
   "pygments_lexer": "ipython3",
   "version": "3.6.3"
  }
 },
 "nbformat": 4,
 "nbformat_minor": 2
}
