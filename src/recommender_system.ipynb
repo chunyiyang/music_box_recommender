{
 "cells": [
  {
   "cell_type": "code",
   "execution_count": 10,
   "metadata": {},
   "outputs": [
    {
     "name": "stdout",
     "output_type": "stream",
     "text": [
      "\u001b[H\u001b[2J"
     ]
    }
   ],
   "source": [
    "clear all"
   ]
  },
  {
   "cell_type": "code",
   "execution_count": 11,
   "metadata": {},
   "outputs": [],
   "source": [
    "import findspark"
   ]
  },
  {
   "cell_type": "code",
   "execution_count": 12,
   "metadata": {},
   "outputs": [],
   "source": [
    "# find spark location\n",
    "\n",
    "findspark.init('/home/chunyi/spark-2.2.1-bin-hadoop2.7')"
   ]
  },
  {
   "cell_type": "code",
   "execution_count": 13,
   "metadata": {},
   "outputs": [],
   "source": [
    "import pyspark"
   ]
  },
  {
   "cell_type": "code",
   "execution_count": 14,
   "metadata": {},
   "outputs": [],
   "source": [
    "from pyspark.sql import SparkSession"
   ]
  },
  {
   "cell_type": "code",
   "execution_count": 15,
   "metadata": {},
   "outputs": [],
   "source": [
    "spark = SparkSession.builder.appName('rec').getOrCreate()"
   ]
  },
  {
   "cell_type": "code",
   "execution_count": 16,
   "metadata": {},
   "outputs": [],
   "source": [
    "from pyspark.sql.types import (StructField, StringType,\n",
    "                              IntegerType, StructType)"
   ]
  },
  {
   "cell_type": "code",
   "execution_count": 17,
   "metadata": {},
   "outputs": [],
   "source": [
    "def stripSpace(string):\n",
    "    return string.replace(' ','')"
   ]
  },
  {
   "cell_type": "code",
   "execution_count": 18,
   "metadata": {},
   "outputs": [],
   "source": [
    "# load all data\n",
    "\n",
    "data = spark.read.csv('../data/all_play_simple1000000.log.fn', sep='\\t')"
   ]
  },
  {
   "cell_type": "code",
   "execution_count": 19,
   "metadata": {},
   "outputs": [],
   "source": [
    "from pyspark.sql.functions import udf\n",
    "\n",
    "udf_stripSpace = udf(stripSpace, StringType())"
   ]
  },
  {
   "cell_type": "code",
   "execution_count": 20,
   "metadata": {},
   "outputs": [],
   "source": [
    "# rename all columns\n",
    "\n",
    "data = data.withColumn('user_id', udf_stripSpace(data['_c0']))\n",
    "data = data.withColumn('song_id', udf_stripSpace(data['_c1']))\n",
    "data = data.withColumn('play_length', udf_stripSpace(data['_c2']))\n",
    "data = data.withColumn('song_length', udf_stripSpace(data['_c3']))\n",
    "data = data.withColumn('paid', udf_stripSpace(data['_c4']))"
   ]
  },
  {
   "cell_type": "code",
   "execution_count": 21,
   "metadata": {},
   "outputs": [],
   "source": [
    "data = data.select(data['user_id'].cast('int'),\n",
    "                  data['song_id'].cast('int'),\n",
    "                  data['play_length'].cast('int'),\n",
    "                  data['song_length'].cast('int'),\n",
    "                  data['paid'].cast('int'))"
   ]
  },
  {
   "cell_type": "code",
   "execution_count": 22,
   "metadata": {
    "scrolled": true
   },
   "outputs": [
    {
     "name": "stdout",
     "output_type": "stream",
     "text": [
      "+-------+--------------------+-----------------+-----------------+-----------------+--------+\n",
      "|summary|             user_id|          song_id|      play_length|      song_length|    paid|\n",
      "+-------+--------------------+-----------------+-----------------+-----------------+--------+\n",
      "|  count|            10000000|          9967890|          9883104|          9968938|10000000|\n",
      "|   mean| 1.432927969506529E8|5578081.254429874|4634.293739901958|22.68671035971936|     0.0|\n",
      "| stddev|3.7731686983832605E7|5844308.841806572| 708974.643502864|680151.9550865976|     0.0|\n",
      "|    min|                   0|               -1|      -2147483648|      -2147483648|       0|\n",
      "|    max|           156855255|        129163448|        291445468|           487765|       0|\n",
      "+-------+--------------------+-----------------+-----------------+-----------------+--------+\n",
      "\n"
     ]
    }
   ],
   "source": [
    "data.describe().show()"
   ]
  },
  {
   "cell_type": "code",
   "execution_count": 23,
   "metadata": {},
   "outputs": [],
   "source": [
    "# filter out null values \n",
    "\n",
    "data = data.filter('user_id > 0 and song_id > 0 and play_length >= 0 and song_length >= 0')\n",
    "#data.describe().show()"
   ]
  },
  {
   "cell_type": "code",
   "execution_count": 24,
   "metadata": {},
   "outputs": [],
   "source": [
    "data.createOrReplaceTempView('data')"
   ]
  },
  {
   "cell_type": "code",
   "execution_count": 25,
   "metadata": {},
   "outputs": [],
   "source": [
    "# use max song length of the same song_id to replace original song length \n",
    "\n",
    "max_song_length_matrix = spark.sql(\"SELECT song_id, max(song_length) AS max_length FROM data GROUP BY song_id\")"
   ]
  },
  {
   "cell_type": "code",
   "execution_count": 26,
   "metadata": {
    "scrolled": true
   },
   "outputs": [
    {
     "name": "stdout",
     "output_type": "stream",
     "text": [
      "+---------+-----------+\n",
      "|  user_id|Played_song|\n",
      "+---------+-----------+\n",
      "|154412037|        181|\n",
      "|154417891|         95|\n",
      "|154421973|        348|\n",
      "|154409364|         74|\n",
      "|154409339|         70|\n",
      "+---------+-----------+\n",
      "only showing top 5 rows\n",
      "\n"
     ]
    }
   ],
   "source": [
    "# to check how many songs each user played, the purpose is to check wheather active user or not\n",
    "\n",
    "user_song_count = spark.sql(\"SELECT user_id, count(song_id) as Played_song FROM data GROUP BY user_id\")\n",
    "user_song_count.show(5)"
   ]
  },
  {
   "cell_type": "code",
   "execution_count": 27,
   "metadata": {},
   "outputs": [
    {
     "data": {
      "text/plain": [
       "188143"
      ]
     },
     "execution_count": 27,
     "metadata": {},
     "output_type": "execute_result"
    }
   ],
   "source": [
    "user_song_count.count()"
   ]
  },
  {
   "cell_type": "code",
   "execution_count": 28,
   "metadata": {},
   "outputs": [
    {
     "data": {
      "text/plain": [
       "36431"
      ]
     },
     "execution_count": 28,
     "metadata": {},
     "output_type": "execute_result"
    }
   ],
   "source": [
    "# make a dataframe of inactive users\n",
    "\n",
    "inactive_user = user_song_count.filter('count(song_id) < 4')\n",
    "inactive_user.count()"
   ]
  },
  {
   "cell_type": "code",
   "execution_count": 29,
   "metadata": {},
   "outputs": [
    {
     "name": "stdout",
     "output_type": "stream",
     "text": [
      "+--------+----------+\n",
      "| song_id|user_count|\n",
      "+--------+----------+\n",
      "|15249349|     73839|\n",
      "| 9950164|     63331|\n",
      "|15807836|     34047|\n",
      "| 5237384|     26379|\n",
      "| 6468891|     21318|\n",
      "+--------+----------+\n",
      "only showing top 5 rows\n",
      "\n"
     ]
    }
   ],
   "source": [
    "# calculate the most popular songs\n",
    "popular_songs = spark.sql(\"SELECT song_id, count(user_id) as user_count FROM data WHERE play_length*2 > song_length GROUP BY song_id ORDER BY user_count DESC\")\n",
    "popular_songs.show(5)"
   ]
  },
  {
   "cell_type": "code",
   "execution_count": 30,
   "metadata": {},
   "outputs": [],
   "source": [
    "# use max song length to replace original song length\n",
    "max_song_length_matrix.createOrReplaceTempView('max_song_length_matrix')\n",
    "data = spark.sql(\"SELECT data.user_id, data.song_id, data.play_length,  max_song_length_matrix.max_length AS song_length FROM data LEFT JOIN max_song_length_matrix ON data.song_id = max_song_length_matrix.song_id\" )"
   ]
  },
  {
   "cell_type": "code",
   "execution_count": 31,
   "metadata": {},
   "outputs": [
    {
     "name": "stdout",
     "output_type": "stream",
     "text": [
      "+-------+-------------------+-----------------+------------------+-----------------+\n",
      "|summary|            user_id|          song_id|       play_length|      song_length|\n",
      "+-------+-------------------+-----------------+------------------+-----------------+\n",
      "|  count|            9021772|          9021772|           9021772|          9021772|\n",
      "|   mean| 1.43803855624193E8|6076455.466154432| 4704.195162325095|462.4028196456306|\n",
      "| stddev|3.685866101581352E7|5838175.925927465|124421.31650359664|748.9155380395235|\n",
      "|    min|             113767|                5|                 0|                0|\n",
      "|    max|          156855255|        129163448|         214410221|            19944|\n",
      "+-------+-------------------+-----------------+------------------+-----------------+\n",
      "\n"
     ]
    }
   ],
   "source": [
    "data.describe().show()"
   ]
  },
  {
   "cell_type": "code",
   "execution_count": 32,
   "metadata": {},
   "outputs": [],
   "source": [
    "from pyspark.sql.functions import col, when, round, sum, avg\n",
    "    "
   ]
  },
  {
   "cell_type": "code",
   "execution_count": 33,
   "metadata": {},
   "outputs": [],
   "source": [
    "# calculate how many times using play_length and song_length column\n",
    "data = data.withColumn('play_times', when(col('song_length') == 0, 0).otherwise(round(col('play_length')/col('song_length'))))\n"
   ]
  },
  {
   "cell_type": "code",
   "execution_count": 34,
   "metadata": {},
   "outputs": [],
   "source": [
    "# change column to int type\n",
    "data = data.select(data['user_id'],\n",
    "                  data['song_id'],\n",
    "                  data['play_length'],\n",
    "                  data['song_length'],\n",
    "                  data['play_times'].cast('int'))"
   ]
  },
  {
   "cell_type": "code",
   "execution_count": 35,
   "metadata": {},
   "outputs": [],
   "source": [
    "data.createOrReplaceTempView('data')"
   ]
  },
  {
   "cell_type": "code",
   "execution_count": 36,
   "metadata": {},
   "outputs": [],
   "source": [
    "# for each user, calculate how many times each song plays\n",
    "\n",
    "data = spark.sql(\"SELECT user_id, song_id,  sum(play_times) AS total_play_times, sum(play_length) AS total_play_length, max(song_length) AS song_length FROM data GROUP BY user_id, song_id\" )"
   ]
  },
  {
   "cell_type": "code",
   "execution_count": 37,
   "metadata": {},
   "outputs": [
    {
     "name": "stdout",
     "output_type": "stream",
     "text": [
      "+---------+-------+----------------+-----------------+-----------+\n",
      "|  user_id|song_id|total_play_times|total_play_length|song_length|\n",
      "+---------+-------+----------------+-----------------+-----------+\n",
      "|154742955|   1591|               2|              705|        300|\n",
      "|154428230|   1645|               1|              235|        318|\n",
      "|154618406|   1645|               3|              794|        318|\n",
      "|154322633|   1645|               0|                0|        318|\n",
      "|154808361|   1645|              27|             7074|        318|\n",
      "+---------+-------+----------------+-----------------+-----------+\n",
      "only showing top 5 rows\n",
      "\n"
     ]
    }
   ],
   "source": [
    "data.show(5)"
   ]
  },
  {
   "cell_type": "code",
   "execution_count": 38,
   "metadata": {},
   "outputs": [
    {
     "name": "stdout",
     "output_type": "stream",
     "text": [
      "+-------+--------------------+-----------------+------------------+------------------+-----------------+\n",
      "|summary|             user_id|          song_id|  total_play_times| total_play_length|      song_length|\n",
      "+-------+--------------------+-----------------+------------------+------------------+-----------------+\n",
      "|  count|             4262933|          4262933|           4262933|           4262933|          4262933|\n",
      "|   mean|1.4811727738671824E8|5809818.124727975|32.346000511854164|   9955.6282489075|431.7727794455132|\n",
      "| stddev|2.8870189729737677E7|5912551.265410428|  837.011136527386|238920.84508017145|697.9206487124021|\n",
      "|    min|              113767|                5|                 0|                 0|                0|\n",
      "|    max|           156855255|        129163448|            847061|         215148056|            19944|\n",
      "+-------+--------------------+-----------------+------------------+------------------+-----------------+\n",
      "\n"
     ]
    }
   ],
   "source": [
    "data.describe().show()"
   ]
  },
  {
   "cell_type": "code",
   "execution_count": 39,
   "metadata": {
    "scrolled": true
   },
   "outputs": [],
   "source": [
    "# based on total play times create ratings\n",
    "import math\n",
    "from pyspark.sql.functions import log\n",
    "data = data.withColumn('rating', when(data[\"total_play_times\"] > 4, 5).otherwise((data[\"total_play_times\"]  ).cast('int') ) )\n",
    "#data = data.withColumn('rating', when(col('total_play_times') == 0, 0).otherwise(2*log(col('total_play_times')) ))"
   ]
  },
  {
   "cell_type": "code",
   "execution_count": 40,
   "metadata": {},
   "outputs": [
    {
     "name": "stdout",
     "output_type": "stream",
     "text": [
      "+---------+-------+----------------+-----------------+-----------+------+\n",
      "|  user_id|song_id|total_play_times|total_play_length|song_length|rating|\n",
      "+---------+-------+----------------+-----------------+-----------+------+\n",
      "|154742955|   1591|               2|              705|        300|     2|\n",
      "|154428230|   1645|               1|              235|        318|     1|\n",
      "|154618406|   1645|               3|              794|        318|     3|\n",
      "|154322633|   1645|               0|                0|        318|     0|\n",
      "|154808361|   1645|              27|             7074|        318|     5|\n",
      "+---------+-------+----------------+-----------------+-----------+------+\n",
      "only showing top 5 rows\n",
      "\n"
     ]
    }
   ],
   "source": [
    "data.show(5)"
   ]
  },
  {
   "cell_type": "code",
   "execution_count": 41,
   "metadata": {},
   "outputs": [],
   "source": [
    "### Recommender system ####\n",
    "from pyspark.ml.evaluation import RegressionEvaluator\n",
    "from pyspark.ml.recommendation import ALS"
   ]
  },
  {
   "cell_type": "code",
   "execution_count": 42,
   "metadata": {},
   "outputs": [],
   "source": [
    "matrix_recommender = data.select('user_id', 'song_id', 'rating')\n",
    "matrix_recommender = matrix_recommender.filter('rating > 1')\n",
    "\n",
    "#del(data)"
   ]
  },
  {
   "cell_type": "code",
   "execution_count": 43,
   "metadata": {},
   "outputs": [
    {
     "name": "stdout",
     "output_type": "stream",
     "text": [
      "+---------+-------+------+\n",
      "|  user_id|song_id|rating|\n",
      "+---------+-------+------+\n",
      "|154742955|   1591|     2|\n",
      "|154618406|   1645|     3|\n",
      "|154808361|   1645|     5|\n",
      "|154578420|   1645|     3|\n",
      "|154656960|   1645|     5|\n",
      "+---------+-------+------+\n",
      "only showing top 5 rows\n",
      "\n"
     ]
    }
   ],
   "source": [
    "matrix_recommender.show(5)"
   ]
  },
  {
   "cell_type": "code",
   "execution_count": 66,
   "metadata": {},
   "outputs": [],
   "source": [
    "(training, test) = matrix_recommender.randomSplit([0.9, 0.1])"
   ]
  },
  {
   "cell_type": "code",
   "execution_count": 46,
   "metadata": {},
   "outputs": [],
   "source": [
    "als = ALS(maxIter=10, regParam=0.01, userCol=\"user_id\", itemCol=\"song_id\", ratingCol=\"rating\")"
   ]
  },
  {
   "cell_type": "code",
   "execution_count": 47,
   "metadata": {
    "scrolled": true
   },
   "outputs": [
    {
     "name": "stdout",
     "output_type": "stream",
     "text": [
      "+-------+--------------------+-----------------+------------------+\n",
      "|summary|             user_id|          song_id|            rating|\n",
      "+-------+--------------------+-----------------+------------------+\n",
      "|  count|              538089|           538089|            538089|\n",
      "|   mean|1.4291902020716646E8|6193906.680376295| 3.455383774803053|\n",
      "| stddev| 3.834459605273708E7|6245690.739111764|1.3315886832368184|\n",
      "|    min|              113767|              714|                 2|\n",
      "|    max|           156848238|         21596231|                 5|\n",
      "+-------+--------------------+-----------------+------------------+\n",
      "\n"
     ]
    }
   ],
   "source": [
    "training.describe().show()"
   ]
  },
  {
   "cell_type": "code",
   "execution_count": 48,
   "metadata": {},
   "outputs": [],
   "source": [
    "model = als.fit(matrix_recommender)"
   ]
  },
  {
   "cell_type": "code",
   "execution_count": 49,
   "metadata": {},
   "outputs": [],
   "source": [
    "user_recs = model.recommendForAllUsers(3)"
   ]
  },
  {
   "cell_type": "code",
   "execution_count": 50,
   "metadata": {
    "scrolled": true
   },
   "outputs": [
    {
     "name": "stdout",
     "output_type": "stream",
     "text": [
      "+--------+--------------------+\n",
      "| user_id|     recommendations|\n",
      "+--------+--------------------+\n",
      "|10226023|[[4550582,14.9629...|\n",
      "|25933646|[[4660913,6.93507...|\n",
      "|51492253|[[9559482,5.29850...|\n",
      "|54697408|[[6234930,19.0983...|\n",
      "|68845918|[[291041,13.94921...|\n",
      "+--------+--------------------+\n",
      "only showing top 5 rows\n",
      "\n"
     ]
    }
   ],
   "source": [
    "user_recs.show(5)"
   ]
  },
  {
   "cell_type": "code",
   "execution_count": 51,
   "metadata": {},
   "outputs": [
    {
     "name": "stdout",
     "output_type": "stream",
     "text": [
      "+---------+-----------+\n",
      "|  user_id|Played_song|\n",
      "+---------+-----------+\n",
      "|154412037|        181|\n",
      "|154417891|         95|\n",
      "|154421973|        348|\n",
      "|154409364|         74|\n",
      "|154409339|         70|\n",
      "+---------+-----------+\n",
      "only showing top 5 rows\n",
      "\n"
     ]
    }
   ],
   "source": [
    "user_song_count.show(5)"
   ]
  },
  {
   "cell_type": "code",
   "execution_count": 52,
   "metadata": {},
   "outputs": [],
   "source": [
    "user_recs.createOrReplaceTempView('user_recs')\n",
    "user_song_count.createOrReplaceTempView('user_song_count')\n",
    "\n",
    "user_recs = spark.sql(\"SELECT user_id, recommendations[0].song_id AS first_choice, recommendations[1].song_id AS second_choice, recommendations[2].song_id AS third_choice FROM user_recs\" )"
   ]
  },
  {
   "cell_type": "code",
   "execution_count": 53,
   "metadata": {},
   "outputs": [
    {
     "name": "stdout",
     "output_type": "stream",
     "text": [
      "+--------+------------+-------------+------------+\n",
      "| user_id|first_choice|second_choice|third_choice|\n",
      "+--------+------------+-------------+------------+\n",
      "|10226023|     4550582|      6644296|     7160391|\n",
      "|25933646|     4660913|       397734|      291041|\n",
      "|51492253|     9559482|      4427756|     4532756|\n",
      "|54697408|     6234930|      3995183|      848438|\n",
      "|68845918|      291041|      6225691|     6202348|\n",
      "+--------+------------+-------------+------------+\n",
      "only showing top 5 rows\n",
      "\n"
     ]
    }
   ],
   "source": [
    "user_recs.show(5)\n"
   ]
  },
  {
   "cell_type": "code",
   "execution_count": 54,
   "metadata": {},
   "outputs": [],
   "source": [
    "user_recs.createOrReplaceTempView('user_recs')\n",
    "user_recs = spark.sql(\"SELECT c.user_id, r.first_choice, r.second_choice, r.third_choice,  c.Played_song FROM user_recs r RIGHT JOIN user_song_count c ON r.user_id = c.user_id\") "
   ]
  },
  {
   "cell_type": "code",
   "execution_count": 55,
   "metadata": {},
   "outputs": [
    {
     "name": "stdout",
     "output_type": "stream",
     "text": [
      "+---------+------------+-------------+------------+-----------+\n",
      "|  user_id|first_choice|second_choice|third_choice|Played_song|\n",
      "+---------+------------+-------------+------------+-----------+\n",
      "|   885405|        null|         null|        null|          6|\n",
      "| 10226023|     4550582|      6644296|     7160391|        105|\n",
      "| 20605158|        null|         null|        null|         18|\n",
      "| 25933646|     4660913|       397734|      291041|         25|\n",
      "| 51492253|     9559482|      4427756|     4532756|         95|\n",
      "| 54697408|     6234930|      3995183|      848438|         63|\n",
      "| 68845918|      291041|      6225691|     6202348|        491|\n",
      "| 95438432|        null|         null|        null|          2|\n",
      "| 96692401|        null|         null|        null|         10|\n",
      "|101031185|     4381878|       206989|     6297559|        158|\n",
      "|127185921|     6807387|      4642487|    20856573|        189|\n",
      "|135471192|     5958025|      4427756|     7015944|          5|\n",
      "|137840040|     9953188|      4669707|     4420945|         18|\n",
      "|139502126|      291041|      5648815|     3347469|        138|\n",
      "|152330609|     4381878|      4233158|     3277302|         16|\n",
      "|152520819|      271144|      3995183|     7160391|         97|\n",
      "|153074257|     4623712|      4189257|     5890669|          1|\n",
      "|153115836|     5762918|     11049168|      291041|          5|\n",
      "|153249249|        null|         null|        null|          5|\n",
      "|153628224|        null|         null|        null|         10|\n",
      "|153830126|     5083203|       291041|     6491427|         82|\n",
      "|153952805|    15196764|      2288367|     5890669|        319|\n",
      "|154033744|        null|         null|        null|         20|\n",
      "|154196426|        null|         null|        null|          2|\n",
      "|154221079|        null|         null|        null|          1|\n",
      "+---------+------------+-------------+------------+-----------+\n",
      "only showing top 25 rows\n",
      "\n"
     ]
    }
   ],
   "source": [
    "user_recs.show(25)"
   ]
  },
  {
   "cell_type": "code",
   "execution_count": 56,
   "metadata": {},
   "outputs": [],
   "source": [
    "pop_song1 = popular_songs.head(3)[0].song_id\n",
    "pop_song2 = popular_songs.head(3)[1].song_id\n",
    "pop_song3 = popular_songs.head(3)[2].song_id"
   ]
  },
  {
   "cell_type": "code",
   "execution_count": 57,
   "metadata": {},
   "outputs": [],
   "source": [
    "#user_recs.createOrReplaceTempView('user_recs')\n",
    "#user_recs = spark.sql(\"SELECT user_id,  (IFNULL(first_choice, pop_song1)) AS my_first_choice, (IFNULL(second_choice, pop_song2)) AS my_second_choice, (IFNULL(third_choice, pop_song3)) AS my_third_choice FROM user_recs\" )\n",
    "\n",
    "user_recs = user_recs.withColumn('first_rec', when(user_recs['first_choice'].isNull(), pop_song1).otherwise(user_recs['first_choice']))\n",
    "user_recs = user_recs.withColumn('second_rec', when(user_recs['second_choice'].isNull(), pop_song2).otherwise(user_recs['second_choice']))\n",
    "user_recs = user_recs.withColumn('third_rec', when(user_recs['third_choice'].isNull(), pop_song3).otherwise(user_recs['third_choice']))\n"
   ]
  },
  {
   "cell_type": "code",
   "execution_count": 58,
   "metadata": {
    "scrolled": false
   },
   "outputs": [
    {
     "name": "stdout",
     "output_type": "stream",
     "text": [
      "+---------+------------+-------------+------------+-----------+---------+----------+---------+\n",
      "|  user_id|first_choice|second_choice|third_choice|Played_song|first_rec|second_rec|third_rec|\n",
      "+---------+------------+-------------+------------+-----------+---------+----------+---------+\n",
      "|   885405|        null|         null|        null|          6| 15249349|   9950164| 15807836|\n",
      "| 10226023|     4550582|      6644296|     7160391|        105|  4550582|   6644296|  7160391|\n",
      "| 20605158|        null|         null|        null|         18| 15249349|   9950164| 15807836|\n",
      "| 25933646|     4660913|       397734|      291041|         25|  4660913|    397734|   291041|\n",
      "| 51492253|     9559482|      4427756|     4532756|         95|  9559482|   4427756|  4532756|\n",
      "| 54697408|     6234930|      3995183|      848438|         63|  6234930|   3995183|   848438|\n",
      "| 68845918|      291041|      6225691|     6202348|        491|   291041|   6225691|  6202348|\n",
      "| 95438432|        null|         null|        null|          2| 15249349|   9950164| 15807836|\n",
      "| 96692401|        null|         null|        null|         10| 15249349|   9950164| 15807836|\n",
      "|101031185|     4381878|       206989|     6297559|        158|  4381878|    206989|  6297559|\n",
      "+---------+------------+-------------+------------+-----------+---------+----------+---------+\n",
      "only showing top 10 rows\n",
      "\n"
     ]
    }
   ],
   "source": [
    "user_recs.show(10)"
   ]
  },
  {
   "cell_type": "code",
   "execution_count": 59,
   "metadata": {},
   "outputs": [],
   "source": [
    "user_recs = user_recs.select(user_recs['user_id'],\n",
    "                 user_recs['first_rec'],\n",
    "                 user_recs['second_rec'],\n",
    "                 user_recs['third_rec'])"
   ]
  },
  {
   "cell_type": "code",
   "execution_count": 60,
   "metadata": {},
   "outputs": [
    {
     "name": "stdout",
     "output_type": "stream",
     "text": [
      "+---------+---------+----------+---------+\n",
      "|  user_id|first_rec|second_rec|third_rec|\n",
      "+---------+---------+----------+---------+\n",
      "|   885405| 15249349|   9950164| 15807836|\n",
      "| 10226023|  4550582|   6644296|  7160391|\n",
      "| 20605158| 15249349|   9950164| 15807836|\n",
      "| 25933646|  4660913|    397734|   291041|\n",
      "| 51492253|  9559482|   4427756|  4532756|\n",
      "| 54697408|  6234930|   3995183|   848438|\n",
      "| 68845918|   291041|   6225691|  6202348|\n",
      "| 95438432| 15249349|   9950164| 15807836|\n",
      "| 96692401| 15249349|   9950164| 15807836|\n",
      "|101031185|  4381878|    206989|  6297559|\n",
      "+---------+---------+----------+---------+\n",
      "only showing top 10 rows\n",
      "\n"
     ]
    }
   ],
   "source": [
    "user_recs.show(10)"
   ]
  },
  {
   "cell_type": "code",
   "execution_count": 67,
   "metadata": {},
   "outputs": [],
   "source": [
    "(training, test) = matrix_recommender.randomSplit([0.8, 0.2])"
   ]
  },
  {
   "cell_type": "code",
   "execution_count": 68,
   "metadata": {},
   "outputs": [],
   "source": [
    "train_model = als.fit(training)"
   ]
  },
  {
   "cell_type": "code",
   "execution_count": 64,
   "metadata": {},
   "outputs": [
    {
     "name": "stdout",
     "output_type": "stream",
     "text": [
      "+---------+-------+------+-----------+\n",
      "|  user_id|song_id|rating| prediction|\n",
      "+---------+-------+------+-----------+\n",
      "|154742955|   1591|     2|        NaN|\n",
      "|154506618|   1829|     3| -0.9510112|\n",
      "|154489919|   2866|     5|        NaN|\n",
      "|  1685126|  69048|     5|  2.9696333|\n",
      "|154778073|  78064|     2|        NaN|\n",
      "|154825738|  78113|     2|-0.11484612|\n",
      "| 51682053|  87656|     2|  1.0502037|\n",
      "|154508595| 110904|     2|  4.5336943|\n",
      "|154557905| 118989|     2| -1.0619042|\n",
      "|154782109| 118989|     2|  2.8061755|\n",
      "|154602076| 118989|     2| 0.90969324|\n",
      "|154570059| 121749|     5|  1.6512744|\n",
      "|154582530| 135976|     4|  5.2731338|\n",
      "|  1685126| 156296|     2|   4.137638|\n",
      "|154419334| 156365|     5|  3.0505266|\n",
      "| 28638487| 156365|     5|  2.7221353|\n",
      "|154661836| 156365|     3|  2.9482758|\n",
      "|  1685126| 156365|     2|  2.5658448|\n",
      "|154496208| 161295|     4|  1.2917211|\n",
      "|154489212| 200878|     5|  3.9808974|\n",
      "+---------+-------+------+-----------+\n",
      "only showing top 20 rows\n",
      "\n"
     ]
    }
   ],
   "source": [
    "predictions = train_model.transform(test)\n",
    "predictions.show()"
   ]
  },
  {
   "cell_type": "code",
   "execution_count": 65,
   "metadata": {},
   "outputs": [
    {
     "name": "stdout",
     "output_type": "stream",
     "text": [
      "RMSE\n",
      "nan\n"
     ]
    }
   ],
   "source": [
    "evaluator = RegressionEvaluator(metricName='rmse', labelCol='rating', predictionCol='prediction')\n",
    "rmse = evaluator.evaluate(predictions)\n",
    "print('RMSE')\n",
    "print(rmse)"
   ]
  },
  {
   "cell_type": "code",
   "execution_count": null,
   "metadata": {},
   "outputs": [],
   "source": []
  }
 ],
 "metadata": {
  "kernelspec": {
   "display_name": "Python 3",
   "language": "python",
   "name": "python3"
  },
  "language_info": {
   "codemirror_mode": {
    "name": "ipython",
    "version": 3
   },
   "file_extension": ".py",
   "mimetype": "text/x-python",
   "name": "python",
   "nbconvert_exporter": "python",
   "pygments_lexer": "ipython3",
   "version": "3.5.2"
  }
 },
 "nbformat": 4,
 "nbformat_minor": 2
}
